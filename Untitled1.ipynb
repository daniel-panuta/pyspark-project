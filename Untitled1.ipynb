{
 "cells": [
  {
   "cell_type": "code",
   "execution_count": null,
   "id": "568418b1-ad4c-4750-b747-37e379638c97",
   "metadata": {},
   "outputs": [
    {
     "ename": "",
     "evalue": "",
     "output_type": "error",
     "traceback": [
      "\u001b[1;31mRunning cells with 'Python 3.13.5' requires the ipykernel package.\n",
      "\u001b[1;31m<a href='command:jupyter.createPythonEnvAndSelectController'>Create a Python Environment</a> with the required packages.\n",
      "\u001b[1;31mOr install 'ipykernel' using the command: '\"c:/Program Files/Python313/python.exe\" -m pip install ipykernel -U --user --force-reinstall'"
     ]
    }
   ],
   "source": [
    "import pyspark.sql.functions as F\n",
    "from pyspark.sql import SparkSession\n",
    "spark = SparkSession.builder \\\n",
    "    .appName(\"Optimized Spark Session\") \\\n",
    "    .master(\"local[4]\") \\\n",
    "    .config(\"spark.executor.memory\", \"2g\") \\\n",
    "    .config(\"spark.driver.memory\", \"1g\") \\\n",
    "    .config(\"spark.sql.shuffle.partitions\", \"50\") \\\n",
    "    .getOrCreate()\n",
    "\n",
    "print('Active Spark Sessions',spark.sparkContext.uiWebUrl)"
   ]
  },
  {
   "cell_type": "code",
   "execution_count": 34,
   "id": "7defc433-9b00-4831-8f04-a552ce90bd3a",
   "metadata": {},
   "outputs": [
    {
     "name": "stdout",
     "output_type": "stream",
     "text": [
      "Spark version: 4.0.0\n"
     ]
    }
   ],
   "source": [
    "cs = spark.sparkContext\n",
    "print(f\"Spark version: {spark.version}\")"
   ]
  },
  {
   "cell_type": "code",
   "execution_count": null,
   "id": "ba83ef2e-e180-414f-9b4e-6d12ca9ec54d",
   "metadata": {},
   "outputs": [],
   "source": [
    "file = 'data/MoldovaGaz-1-2020.csv'"
   ]
  },
  {
   "cell_type": "code",
   "execution_count": 31,
   "id": "1ddfedb4-4d2b-4187-b203-2f83415995f1",
   "metadata": {},
   "outputs": [
    {
     "name": "stdout",
     "output_type": "stream",
     "text": [
      "+----------------+-------------------+-------------+--------------+-------------------+----------------+---------------+--------------------+-----------------+------------------+--------------------+-------------+----+-----------+----+----------+------------+---------------+--------------------+---------------+\n",
      "|             _c0|                _c1|          _c2|           _c3|                _c4|             _c5|            _c6|                 _c7|              _c8|               _c9|                _c10|         _c11|_c12|       _c13|_c14|      _c15|        _c16|           _c17|                _c18|           _c19|\n",
      "+----------------+-------------------+-------------+--------------+-------------------+----------------+---------------+--------------------+-----------------+------------------+--------------------+-------------+----+-----------+----+----------+------------+---------------+--------------------+---------------+\n",
      "|  invoice_number|       invoice_date|invoice_owner|invoice_amount|   invoice_due_date|payer_first_name|payer_last_name|payer_address_street|payer_address_zip|payer_address_city|payer_address_county|      service|debt|consumption|unit|unit_price|compensation|monthly_payment|       total_ammount|contract_number|\n",
      "|932/093257673515|2020-01-31 00:00:00|   MoldovaGaz|      50006.29|2020-02-20 00:00:00|           Timea|          Aanei|        Aleea Stoica|           849130|             Sibiu|              Galați|Gaze naturale|   0|        567|  m3|     16.73|      936.64|         193.32|8549.270000000000...|      149926065|\n",
      "|372/072104204339|2020-01-31 00:00:00|   MoldovaGaz|      10823.92|2020-02-20 00:00:00|         Violeta|     Diaconescu|Soseaua Voinea Nr...|           219356|            Tecuci|           Dâmbovița|Gaze naturale|   0|        921|  m3|     16.73|     1454.87|         946.67|13953.46000000000...|      261422664|\n",
      "|966/556508439694|2020-01-31 00:00:00|   MoldovaGaz|      93870.59|2020-02-20 00:00:00|         Lavinia|        Popescu|    Soseaua Dochioiu|           518361|            Tunari|           București|Gaze naturale|   0|        801|  m3|     16.73|     1449.11|         562.41|11951.62000000000...|      317687339|\n",
      "|769/114945889444|2020-01-31 00:00:00|   MoldovaGaz|      49849.80|2020-02-20 00:00:00|        Ștefania|          Oprea|       Soseaua Dobre|           633639|         Timisoara|                Gorj|Gaze naturale|   0|         91|  m3|     16.73|      242.46|         954.83|1279.970000000000...|      818180338|\n",
      "+----------------+-------------------+-------------+--------------+-------------------+----------------+---------------+--------------------+-----------------+------------------+--------------------+-------------+----+-----------+----+----------+------------+---------------+--------------------+---------------+\n",
      "only showing top 5 rows\n"
     ]
    }
   ],
   "source": [
    "df = spark.read.csv(file, sep=',').show(5)"
   ]
  },
  {
   "cell_type": "code",
   "execution_count": 32,
   "id": "964d7681-9e2d-4ab5-b722-de9604dfa57b",
   "metadata": {},
   "outputs": [
    {
     "name": "stdout",
     "output_type": "stream",
     "text": [
      "+----------------+-------------------+-------------+--------------+-------------------+----------------+---------------+--------------------+-----------------+------------------+--------------------+-------------+----+-----------+----+----------+------------+---------------+--------------------+---------------+\n",
      "|  invoice_number|       invoice_date|invoice_owner|invoice_amount|   invoice_due_date|payer_first_name|payer_last_name|payer_address_street|payer_address_zip|payer_address_city|payer_address_county|      service|debt|consumption|unit|unit_price|compensation|monthly_payment|       total_ammount|contract_number|\n",
      "+----------------+-------------------+-------------+--------------+-------------------+----------------+---------------+--------------------+-----------------+------------------+--------------------+-------------+----+-----------+----+----------+------------+---------------+--------------------+---------------+\n",
      "|932/093257673515|2020-01-31 00:00:00|   MoldovaGaz|      50006.29|2020-02-20 00:00:00|           Timea|          Aanei|        Aleea Stoica|           849130|             Sibiu|              Galați|Gaze naturale|   0|        567|  m3|     16.73|      936.64|         193.32|8549.270000000000...|      149926065|\n",
      "|372/072104204339|2020-01-31 00:00:00|   MoldovaGaz|      10823.92|2020-02-20 00:00:00|         Violeta|     Diaconescu|Soseaua Voinea Nr...|           219356|            Tecuci|           Dâmbovița|Gaze naturale|   0|        921|  m3|     16.73|     1454.87|         946.67|13953.46000000000...|      261422664|\n",
      "|966/556508439694|2020-01-31 00:00:00|   MoldovaGaz|      93870.59|2020-02-20 00:00:00|         Lavinia|        Popescu|    Soseaua Dochioiu|           518361|            Tunari|           București|Gaze naturale|   0|        801|  m3|     16.73|     1449.11|         562.41|11951.62000000000...|      317687339|\n",
      "|769/114945889444|2020-01-31 00:00:00|   MoldovaGaz|      49849.80|2020-02-20 00:00:00|        Ștefania|          Oprea|       Soseaua Dobre|           633639|         Timisoara|                Gorj|Gaze naturale|   0|         91|  m3|     16.73|      242.46|         954.83|1279.970000000000...|      818180338|\n",
      "|829/026320051299|2020-01-31 00:00:00|   MoldovaGaz|      78674.32|2020-02-20 00:00:00|      Florentina|          Nemeș|Drumul Tudor Nr. ...|           437445|          Dabuleni|               Bacău|Gaze naturale|   0|        859|  m3|     16.73|     1849.92|         998.93|12521.15000000000...|      436133996|\n",
      "+----------------+-------------------+-------------+--------------+-------------------+----------------+---------------+--------------------+-----------------+------------------+--------------------+-------------+----+-----------+----+----------+------------+---------------+--------------------+---------------+\n",
      "only showing top 5 rows\n"
     ]
    }
   ],
   "source": [
    "spark.read.csv(file, sep=',', header=True).show(5)"
   ]
  },
  {
   "cell_type": "code",
   "execution_count": 27,
   "id": "e75e6b16-9151-4889-b619-984b27a0d494",
   "metadata": {},
   "outputs": [
    {
     "name": "stdout",
     "output_type": "stream",
     "text": [
      "+----------------+-------------------+-------------+--------------+-------------------+----------------+---------------+--------------------+-----------------+------------------+--------------------+-------------+----+-----------+----+----------+------------+---------------+--------------------+---------------+\n",
      "|             _c0|                _c1|          _c2|           _c3|                _c4|             _c5|            _c6|                 _c7|              _c8|               _c9|                _c10|         _c11|_c12|       _c13|_c14|      _c15|        _c16|           _c17|                _c18|           _c19|\n",
      "+----------------+-------------------+-------------+--------------+-------------------+----------------+---------------+--------------------+-----------------+------------------+--------------------+-------------+----+-----------+----+----------+------------+---------------+--------------------+---------------+\n",
      "|  invoice_number|       invoice_date|invoice_owner|invoice_amount|   invoice_due_date|payer_first_name|payer_last_name|payer_address_street|payer_address_zip|payer_address_city|payer_address_county|      service|debt|consumption|unit|unit_price|compensation|monthly_payment|       total_ammount|contract_number|\n",
      "|932/093257673515|2020-01-31 00:00:00|   MoldovaGaz|      50006.29|2020-02-20 00:00:00|           Timea|          Aanei|        Aleea Stoica|           849130|             Sibiu|              Galați|Gaze naturale|   0|        567|  m3|     16.73|      936.64|         193.32|8549.270000000000...|      149926065|\n",
      "|372/072104204339|2020-01-31 00:00:00|   MoldovaGaz|      10823.92|2020-02-20 00:00:00|         Violeta|     Diaconescu|Soseaua Voinea Nr...|           219356|            Tecuci|           Dâmbovița|Gaze naturale|   0|        921|  m3|     16.73|     1454.87|         946.67|13953.46000000000...|      261422664|\n",
      "|966/556508439694|2020-01-31 00:00:00|   MoldovaGaz|      93870.59|2020-02-20 00:00:00|         Lavinia|        Popescu|    Soseaua Dochioiu|           518361|            Tunari|           București|Gaze naturale|   0|        801|  m3|     16.73|     1449.11|         562.41|11951.62000000000...|      317687339|\n",
      "|769/114945889444|2020-01-31 00:00:00|   MoldovaGaz|      49849.80|2020-02-20 00:00:00|        Ștefania|          Oprea|       Soseaua Dobre|           633639|         Timisoara|                Gorj|Gaze naturale|   0|         91|  m3|     16.73|      242.46|         954.83|1279.970000000000...|      818180338|\n",
      "+----------------+-------------------+-------------+--------------+-------------------+----------------+---------------+--------------------+-----------------+------------------+--------------------+-------------+----+-----------+----+----------+------------+---------------+--------------------+---------------+\n",
      "only showing top 5 rows\n"
     ]
    }
   ],
   "source": [
    "spark.read.csv(file, sep=',').show(5)"
   ]
  },
  {
   "cell_type": "code",
   "execution_count": 36,
   "id": "16a84d7b-e5c8-4b89-ad42-d5cfb4f8654b",
   "metadata": {},
   "outputs": [],
   "source": [
    "df = spark.read.csv(file, sep=',', header=True)"
   ]
  },
  {
   "cell_type": "code",
   "execution_count": 37,
   "id": "609c6562-11a9-45aa-9d03-310fd75621e4",
   "metadata": {},
   "outputs": [
    {
     "name": "stdout",
     "output_type": "stream",
     "text": [
      "root\n",
      " |-- invoice_number: string (nullable = true)\n",
      " |-- invoice_date: string (nullable = true)\n",
      " |-- invoice_owner: string (nullable = true)\n",
      " |-- invoice_amount: string (nullable = true)\n",
      " |-- invoice_due_date: string (nullable = true)\n",
      " |-- payer_first_name: string (nullable = true)\n",
      " |-- payer_last_name: string (nullable = true)\n",
      " |-- payer_address_street: string (nullable = true)\n",
      " |-- payer_address_zip: string (nullable = true)\n",
      " |-- payer_address_city: string (nullable = true)\n",
      " |-- payer_address_county: string (nullable = true)\n",
      " |-- service: string (nullable = true)\n",
      " |-- debt: string (nullable = true)\n",
      " |-- consumption: string (nullable = true)\n",
      " |-- unit: string (nullable = true)\n",
      " |-- unit_price: string (nullable = true)\n",
      " |-- compensation: string (nullable = true)\n",
      " |-- monthly_payment: string (nullable = true)\n",
      " |-- total_ammount: string (nullable = true)\n",
      " |-- contract_number: string (nullable = true)\n",
      "\n"
     ]
    }
   ],
   "source": [
    "df.printSchema()"
   ]
  },
  {
   "cell_type": "code",
   "execution_count": 44,
   "id": "7734a395-6a96-472d-81b0-18cc974f6885",
   "metadata": {},
   "outputs": [
    {
     "name": "stdout",
     "output_type": "stream",
     "text": [
      "root\n",
      " |-- invoice_number: string (nullable = true)\n",
      " |-- invoice_date: date (nullable = true)\n",
      " |-- invoice_owner: string (nullable = true)\n",
      " |-- invoice_amount: string (nullable = true)\n",
      " |-- invoice_due_date: string (nullable = true)\n",
      " |-- payer_first_name: string (nullable = true)\n",
      " |-- payer_last_name: string (nullable = true)\n",
      " |-- payer_address_street: string (nullable = true)\n",
      " |-- payer_address_zip: string (nullable = true)\n",
      " |-- payer_address_city: string (nullable = true)\n",
      " |-- payer_address_county: string (nullable = true)\n",
      " |-- service: string (nullable = true)\n",
      " |-- debt: string (nullable = true)\n",
      " |-- consumption: string (nullable = true)\n",
      " |-- unit: string (nullable = true)\n",
      " |-- unit_price: string (nullable = true)\n",
      " |-- compensation: string (nullable = true)\n",
      " |-- monthly_payment: string (nullable = true)\n",
      " |-- total_ammount: string (nullable = true)\n",
      " |-- contract_number: string (nullable = true)\n",
      "\n"
     ]
    }
   ],
   "source": [
    "#Recreate the DataFrame From RDD (Deepest Clone)\n",
    "df2 = spark.createDataFrame(df.rdd, df.schema)\n",
    "#Transform column to date\n",
    "df2 = df2.withColumn('invoice_date', F.col('invoice_date').cast('date'))\n",
    "df2.printSchema()"
   ]
  },
  {
   "cell_type": "code",
   "execution_count": 46,
   "id": "1374cec2-021f-4783-8162-10f2437a6b65",
   "metadata": {},
   "outputs": [
    {
     "name": "stdout",
     "output_type": "stream",
     "text": [
      "root\n",
      " |-- invoice_number: string (nullable = true)\n",
      " |-- invoice_date: date (nullable = true)\n",
      " |-- invoice_owner: string (nullable = true)\n",
      " |-- invoice_amount: float (nullable = true)\n",
      " |-- invoice_due_date: date (nullable = true)\n",
      " |-- payer_first_name: string (nullable = true)\n",
      " |-- payer_last_name: string (nullable = true)\n",
      " |-- payer_address_street: string (nullable = true)\n",
      " |-- payer_address_zip: string (nullable = true)\n",
      " |-- payer_address_city: string (nullable = true)\n",
      " |-- payer_address_county: string (nullable = true)\n",
      " |-- service: string (nullable = true)\n",
      " |-- debt: float (nullable = true)\n",
      " |-- consumption: string (nullable = true)\n",
      " |-- unit: string (nullable = true)\n",
      " |-- unit_price: string (nullable = true)\n",
      " |-- compensation: string (nullable = true)\n",
      " |-- monthly_payment: string (nullable = true)\n",
      " |-- total_ammount: string (nullable = true)\n",
      " |-- contract_number: string (nullable = true)\n",
      "\n"
     ]
    }
   ],
   "source": [
    "df2 = df2\\\n",
    "    .withColumn('invoice_amount', F.col('invoice_amount').cast('float'))\\\n",
    "    .withColumn('invoice_due_date', F.col('invoice_due_date').cast('date'))\\\n",
    "    .withColumn('debt', F.col('debt').cast('float'))\n",
    "df2.printSchema()"
   ]
  },
  {
   "cell_type": "markdown",
   "id": "c7b5c1c5-8b43-460a-9a64-0e221d2283b1",
   "metadata": {},
   "source": [
    "Select"
   ]
  },
  {
   "cell_type": "code",
   "execution_count": 69,
   "id": "b8c9c546-aac3-424f-90f5-73e90e27cbbe",
   "metadata": {},
   "outputs": [
    {
     "name": "stderr",
     "output_type": "stream",
     "text": [
      "[Stage 85:======>                                                   (1 + 8) / 9]"
     ]
    },
    {
     "name": "stdout",
     "output_type": "stream",
     "text": [
      "+---------------+---------------------------------------------------------+------------------+\n",
      "|payer_last_name|payer_address_street                                     |payer_address_city|\n",
      "+---------------+---------------------------------------------------------+------------------+\n",
      "|Ene            |Bulevardul Mocanu Nr. 42 Bl. 19  Sc. 47 Ap. 758          |Valea lui Mihai   |\n",
      "|Tudor          |Soseaua Barbu                                            |Borcea            |\n",
      "|Florea         |Strada Dochioiu                                          |Strehaia          |\n",
      "|Nistor         |Intrarea Andrei Ioniță Nr. 35                            |Prejmer           |\n",
      "|Dinu           |Aleea Albu                                               |Barbulesti        |\n",
      "|Ene            |Strada Floare Dumitrescu                                 |Bacau             |\n",
      "|Tabacu         |Drumul Suciu Nr. 56                                      |Breaza de Sus     |\n",
      "|Ionescu        |Drumul Voinea                                            |Horodnic de Sus   |\n",
      "|Ene            |Intrarea Diaconu                                         |Pantelimon        |\n",
      "|Dobre          |Soseaua Veronica Mazilescu Nr. 821 Bl. 83  Sc. 68 Ap. 523|Pipera (Voluntari)|\n",
      "+---------------+---------------------------------------------------------+------------------+\n",
      "only showing top 10 rows\n"
     ]
    },
    {
     "name": "stderr",
     "output_type": "stream",
     "text": [
      "                                                                                "
     ]
    }
   ],
   "source": [
    "df2.select('payer_last_name','payer_address_street','payer_address_city').distinct().show(10, truncate=False)"
   ]
  },
  {
   "cell_type": "markdown",
   "id": "79d2c0ac-a1c8-4470-bfdf-83fea906fb40",
   "metadata": {},
   "source": [
    "GroupBy"
   ]
  },
  {
   "cell_type": "code",
   "execution_count": 70,
   "id": "4398d798-066c-40a7-b3ef-8e28c40f0b72",
   "metadata": {},
   "outputs": [
    {
     "name": "stderr",
     "output_type": "stream",
     "text": [
      "[Stage 88:======>                                                   (1 + 8) / 9]"
     ]
    },
    {
     "name": "stdout",
     "output_type": "stream",
     "text": [
      "+--------------------+----------+\n",
      "|payer_address_street|total_rows|\n",
      "+--------------------+----------+\n",
      "|       Strada Nistor|       269|\n",
      "|   Bulevardul Nistor|       261|\n",
      "|       Drumul Nistor|       249|\n",
      "|        Aleea Nistor|       249|\n",
      "|      Soseaua Nistor|       245|\n",
      "|     Intrarea Nistor|       224|\n",
      "|      Intrarea Marin|       160|\n",
      "|         Drumul Dima|       158|\n",
      "|      Bulevardul Ene|       152|\n",
      "|        Aleea Ioniță|       149|\n",
      "|     Bulevardul Stan|       149|\n",
      "|         Aleea Dobre|       148|\n",
      "|          Aleea Niță|       148|\n",
      "|       Drumul Ababei|       147|\n",
      "|Bulevardul Gheorghiu|       147|\n",
      "|     Aleea Georgescu|       146|\n",
      "|          Aleea Popa|       145|\n",
      "|   Bulevardul Stancu|       145|\n",
      "|       Soseaua Tudor|       145|\n",
      "|       Drumul Manole|       143|\n",
      "+--------------------+----------+\n",
      "only showing top 20 rows\n"
     ]
    },
    {
     "name": "stderr",
     "output_type": "stream",
     "text": [
      "                                                                                "
     ]
    }
   ],
   "source": [
    "df2\\\n",
    "    .groupBy('payer_address_street')\\\n",
    "    .agg(F.count('*').alias('total_rows'))\\\n",
    "    .orderBy(F.col('total_rows').desc())\\\n",
    "    .show()"
   ]
  },
  {
   "cell_type": "markdown",
   "id": "b45e0627-25fc-458a-9abf-58068ee4c573",
   "metadata": {},
   "source": [
    "Filter"
   ]
  },
  {
   "cell_type": "code",
   "execution_count": 71,
   "id": "1de93d00-9559-4ac5-98d2-a0690abdfce8",
   "metadata": {},
   "outputs": [
    {
     "name": "stderr",
     "output_type": "stream",
     "text": [
      "[Stage 91:======>                                                   (1 + 8) / 9]"
     ]
    },
    {
     "name": "stdout",
     "output_type": "stream",
     "text": [
      "+---------------+-----------------------------------------------------+------------------+\n",
      "|payer_last_name|payer_address_street                                 |payer_address_city|\n",
      "+---------------+-----------------------------------------------------+------------------+\n",
      "|Dima           |Bulevardul Gheorghiu Nr. 92 Bl. 58  Sc. 64 Ap. 256   |Videle            |\n",
      "|Ionescu        |Intrarea Mălina Barbu Nr. 84 Bl. 72  Sc. 97 Ap. 713  |Voluntari         |\n",
      "|Pop            |Drumul Timotei Albu Nr. 54 Bl. 40  Sc. 80 Ap. 529    |Roman             |\n",
      "|Stancu         |Aleea Popa Nr. 603 Bl. 26  Sc. 13 Ap. 474            |Brad              |\n",
      "|Diaconescu     |Soseaua Florica Eftimie Nr. 78 Bl. 38  Sc. 82 Ap. 983|Siret             |\n",
      "|Dumitrescu     |Drumul Livia Toma Nr. 551 Bl. 40  Sc. 91 Ap. 808     |Moisei            |\n",
      "|Tudor          |Intrarea Ana Nemeș Nr. 55 Bl. 62  Sc. 95 Ap. 934     |Barbulesti        |\n",
      "|Popescu        |Intrarea Marta Pușcașu Nr. 639 Bl. 94  Sc. 31 Ap. 218|Cobadin           |\n",
      "|Tabacu         |Intrarea Tabacu Nr. 31 Bl. 78  Sc. 19 Ap. 418        |Falticeni         |\n",
      "|Georgescu      |Intrarea Popescu                                     |Caransebes        |\n",
      "+---------------+-----------------------------------------------------+------------------+\n",
      "only showing top 10 rows\n"
     ]
    },
    {
     "name": "stderr",
     "output_type": "stream",
     "text": [
      "                                                                                "
     ]
    }
   ],
   "source": [
    "df2.select('payer_last_name','payer_address_street','payer_address_city')\\\n",
    "    .distinct()\\\n",
    "    .where(F.col('debt')>='3000')\\\n",
    "    .where(F.col('payer_last_name')!='Aanei')\\\n",
    "    .show(10, truncate=False)"
   ]
  },
  {
   "cell_type": "code",
   "execution_count": 76,
   "id": "b91bb5d5-6881-4666-a6ee-d8e385042e83",
   "metadata": {},
   "outputs": [
    {
     "name": "stderr",
     "output_type": "stream",
     "text": [
      "[Stage 101:======>                                                  (1 + 8) / 9]"
     ]
    },
    {
     "name": "stdout",
     "output_type": "stream",
     "text": [
      "+---------------+-----------------------------------------------------+------------------+\n",
      "|payer_last_name|payer_address_street                                 |payer_address_city|\n",
      "+---------------+-----------------------------------------------------+------------------+\n",
      "|Dima           |Bulevardul Gheorghiu Nr. 92 Bl. 58  Sc. 64 Ap. 256   |Videle            |\n",
      "|Ionescu        |Intrarea Mălina Barbu Nr. 84 Bl. 72  Sc. 97 Ap. 713  |Voluntari         |\n",
      "|Pop            |Drumul Timotei Albu Nr. 54 Bl. 40  Sc. 80 Ap. 529    |Roman             |\n",
      "|Stancu         |Aleea Popa Nr. 603 Bl. 26  Sc. 13 Ap. 474            |Brad              |\n",
      "|Diaconescu     |Soseaua Florica Eftimie Nr. 78 Bl. 38  Sc. 82 Ap. 983|Siret             |\n",
      "|Dumitrescu     |Drumul Livia Toma Nr. 551 Bl. 40  Sc. 91 Ap. 808     |Moisei            |\n",
      "|Tudor          |Intrarea Ana Nemeș Nr. 55 Bl. 62  Sc. 95 Ap. 934     |Barbulesti        |\n",
      "|Popescu        |Intrarea Marta Pușcașu Nr. 639 Bl. 94  Sc. 31 Ap. 218|Cobadin           |\n",
      "|Tabacu         |Intrarea Tabacu Nr. 31 Bl. 78  Sc. 19 Ap. 418        |Falticeni         |\n",
      "|Georgescu      |Intrarea Popescu                                     |Caransebes        |\n",
      "+---------------+-----------------------------------------------------+------------------+\n",
      "only showing top 10 rows\n"
     ]
    },
    {
     "name": "stderr",
     "output_type": "stream",
     "text": [
      "                                                                                "
     ]
    }
   ],
   "source": [
    "df2.select('payer_last_name','payer_address_street','payer_address_city')\\\n",
    "    .distinct()\\\n",
    "    .where(''' debt >= 3000.00 ''')\\\n",
    "    .where(''' payer_last_name != \"Aanei\" ''')\\\n",
    "    .show(10, truncate=False)"
   ]
  },
  {
   "cell_type": "markdown",
   "id": "53777a88-99f5-4354-9257-014a9b391e1f",
   "metadata": {},
   "source": [
    "Cache | Persist"
   ]
  },
  {
   "cell_type": "code",
   "execution_count": 74,
   "id": "ac435a86-d0f0-48be-a57e-5af7f3c3581f",
   "metadata": {},
   "outputs": [
    {
     "name": "stderr",
     "output_type": "stream",
     "text": [
      "                                                                                "
     ]
    },
    {
     "data": {
      "text/plain": [
       "148334"
      ]
     },
     "execution_count": 74,
     "metadata": {},
     "output_type": "execute_result"
    }
   ],
   "source": [
    "df2.cache().count()\n"
   ]
  },
  {
   "cell_type": "code",
   "execution_count": 75,
   "id": "cf98f228-c066-4584-b702-d937d587fdd6",
   "metadata": {},
   "outputs": [
    {
     "data": {
      "text/plain": [
       "DataFrame[invoice_number: string, invoice_date: date, invoice_owner: string, invoice_amount: float, invoice_due_date: date, payer_first_name: string, payer_last_name: string, payer_address_street: string, payer_address_zip: string, payer_address_city: string, payer_address_county: string, service: string, debt: float, consumption: string, unit: string, unit_price: string, compensation: string, monthly_payment: string, total_ammount: string, contract_number: string]"
      ]
     },
     "execution_count": 75,
     "metadata": {},
     "output_type": "execute_result"
    }
   ],
   "source": [
    "df2.unpersist()"
   ]
  },
  {
   "cell_type": "code",
   "execution_count": null,
   "id": "d1274f18-63d6-481a-b830-7b8eaa81adda",
   "metadata": {},
   "outputs": [],
   "source": []
  }
 ],
 "metadata": {
  "kernelspec": {
   "display_name": "Python 3",
   "language": "python",
   "name": "python3"
  },
  "language_info": {
   "codemirror_mode": {
    "name": "ipython",
    "version": 3
   },
   "file_extension": ".py",
   "mimetype": "text/x-python",
   "name": "python",
   "nbconvert_exporter": "python",
   "pygments_lexer": "ipython3",
   "version": "3.13.5"
  }
 },
 "nbformat": 4,
 "nbformat_minor": 5
}
